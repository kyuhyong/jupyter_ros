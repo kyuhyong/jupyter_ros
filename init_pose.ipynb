{
 "cells": [
  {
   "cell_type": "code",
   "execution_count": 1,
   "metadata": {},
   "outputs": [],
   "source": [
    "import sys\n",
    "import rospy"
   ]
  },
  {
   "cell_type": "code",
   "execution_count": 2,
   "metadata": {},
   "outputs": [],
   "source": [
    "from geometry_msgs.msg import PoseWithCovarianceStamped\n",
    "from tf.transformations import quaternion_from_euler"
   ]
  },
  {
   "cell_type": "code",
   "execution_count": 4,
   "metadata": {},
   "outputs": [],
   "source": [
    "rospy.init_node('init_pose')\n",
    "pub_init = rospy.Publisher(\"initialpose\", PoseWithCovarianceStamped, queue_size=1)\n"
   ]
  },
  {
   "cell_type": "code",
   "execution_count": 5,
   "metadata": {},
   "outputs": [],
   "source": [
    "init_pose = PoseWithCovarianceStamped()\n",
    "init_pose.header.frame_id = \"map\"\n",
    "init_pose.header.stamp = rospy.Time.now()\n",
    "init_pose.pose.pose.position.x = 0.0\n",
    "init_pose.pose.pose.position.y = 0.0\n",
    "init_pose.pose.pose.orientation.w = 1.0"
   ]
  },
  {
   "cell_type": "code",
   "execution_count": 6,
   "metadata": {},
   "outputs": [],
   "source": [
    "def update_init_pose(x, y, theta):\n",
    "    init_pose.header.stamp = rospy.Time.now()\n",
    "    init_pose.pose.pose.position.x = x\n",
    "    init_pose.pose.pose.position.y = y\n",
    "    init_pose.pose.pose.orientation.w = 1.0\n",
    "    q = quaternion_from_euler(0.0, 0.0, theta)\n",
    "    init_pose.pose.pose.orientation.x = q[0]\n",
    "    init_pose.pose.pose.orientation.y = q[1]\n",
    "    init_pose.pose.pose.orientation.z = q[2]\n",
    "    init_pose.pose.pose.orientation.w = q[3]"
   ]
  },
  {
   "cell_type": "code",
   "execution_count": 9,
   "metadata": {},
   "outputs": [],
   "source": [
    "update_init_pose(0.0, 0.0, -0.2)"
   ]
  },
  {
   "cell_type": "code",
   "execution_count": 10,
   "metadata": {},
   "outputs": [],
   "source": [
    "pub_init.publish(init_pose)"
   ]
  },
  {
   "cell_type": "code",
   "execution_count": 11,
   "metadata": {},
   "outputs": [],
   "source": [
    "import actionlib\n",
    "from move_base_msgs.msg import MoveBaseAction, MoveBaseGoal"
   ]
  },
  {
   "cell_type": "code",
   "execution_count": 12,
   "metadata": {},
   "outputs": [
    {
     "data": {
      "text/plain": [
       "True"
      ]
     },
     "execution_count": 12,
     "metadata": {},
     "output_type": "execute_result"
    }
   ],
   "source": [
    "client = actionlib.SimpleActionClient('move_base', MoveBaseAction)\n",
    "client.wait_for_server()"
   ]
  },
  {
   "cell_type": "code",
   "execution_count": 13,
   "metadata": {},
   "outputs": [],
   "source": [
    "goal = MoveBaseGoal()\n",
    "goal.target_pose.header.frame_id = \"map\""
   ]
  },
  {
   "cell_type": "code",
   "execution_count": 14,
   "metadata": {},
   "outputs": [],
   "source": [
    "def send_goal(x,y,theta):\n",
    "    goal.target_pose.header.stamp = rospy.Time.now()\n",
    "    goal.target_pose.pose.position.x = x\n",
    "    goal.target_pose.pose.position.y = y\n",
    "    q = quaternion_from_euler(0.0, 0.0, theta)\n",
    "    goal.target_pose.pose.orientation.x=q[0]\n",
    "    goal.target_pose.pose.orientation.y=q[1]\n",
    "    goal.target_pose.pose.orientation.z=q[2]\n",
    "    goal.target_pose.pose.orientation.w=q[3]\n",
    "    client.send_goal(goal)\n",
    "    "
   ]
  },
  {
   "cell_type": "code",
   "execution_count": 16,
   "metadata": {},
   "outputs": [
    {
     "name": "stdout",
     "output_type": "stream",
     "text": [
      "\n"
     ]
    }
   ],
   "source": [
    "send_goal(0.0,0.0,0.0)\n",
    "wait = client.wait_for_result()\n",
    "if not wait:\n",
    "    print('Error')\n",
    "else:\n",
    "    print(client.get_result())"
   ]
  },
  {
   "cell_type": "code",
   "execution_count": null,
   "metadata": {},
   "outputs": [],
   "source": []
  }
 ],
 "metadata": {
  "kernelspec": {
   "display_name": "Python 2",
   "language": "python",
   "name": "python2"
  },
  "language_info": {
   "codemirror_mode": {
    "name": "ipython",
    "version": 2
   },
   "file_extension": ".py",
   "mimetype": "text/x-python",
   "name": "python",
   "nbconvert_exporter": "python",
   "pygments_lexer": "ipython2",
   "version": "2.7.17"
  }
 },
 "nbformat": 4,
 "nbformat_minor": 2
}
