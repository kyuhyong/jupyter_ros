{
 "cells": [
  {
   "cell_type": "code",
   "execution_count": null,
   "metadata": {},
   "outputs": [],
   "source": [
    "import sys\n",
    "import rospy\n",
    "import math"
   ]
  },
  {
   "cell_type": "code",
   "execution_count": null,
   "metadata": {},
   "outputs": [],
   "source": [
    "from nav_msgs.msg import Odometry\n",
    "from geometry_msgs.msg import Twist, Pose, Point, Vector3, Quaternion\n",
    "from tf.transformations import quaternion_from_euler, euler_from_quaternion"
   ]
  },
  {
   "cell_type": "code",
   "execution_count": null,
   "metadata": {},
   "outputs": [],
   "source": [
    "rospy.init_node('move_odom')"
   ]
  },
  {
   "cell_type": "code",
   "execution_count": null,
   "metadata": {},
   "outputs": [],
   "source": [
    "class OdomPose(object):\n",
    "    x = 0.0\n",
    "    y = 0.0\n",
    "    theta = 0.0"
   ]
  },
  {
   "cell_type": "code",
   "execution_count": null,
   "metadata": {},
   "outputs": [],
   "source": [
    "odom_new = OdomPose()"
   ]
  },
  {
   "cell_type": "code",
   "execution_count": null,
   "metadata": {},
   "outputs": [],
   "source": [
    "def new_odom(msg):\n",
    "    odom_new.x = msg.pose.pose.position.x\n",
    "    odom_new.y = msg.pose.pose.position.y\n",
    "    quat = (msg.pose.pose.orientation.x,\n",
    "                msg.pose.pose.orientation.y,\n",
    "                msg.pose.pose.orientation.z,\n",
    "                msg.pose.pose.orientation.w)\n",
    "    odom_new.theta = euler_from_quaternion(quat)[2]"
   ]
  },
  {
   "cell_type": "code",
   "execution_count": null,
   "metadata": {},
   "outputs": [],
   "source": [
    "rospy.Subscriber(\"/odom\", Odometry, new_odom, queue_size=10)"
   ]
  },
  {
   "cell_type": "code",
   "execution_count": null,
   "metadata": {},
   "outputs": [],
   "source": [
    "print(odom_new.theta*180/math.pi)"
   ]
  },
  {
   "cell_type": "code",
   "execution_count": null,
   "metadata": {},
   "outputs": [],
   "source": [
    "odom_goal = OdomPose()\n",
    "odom_goal.x = 1.0\n",
    "odom_goal.y = 0.0\n",
    "odom_goal.theta = 0.0\n",
    "d_x = 0.0\n",
    "d_y = 0.0\n",
    "d_theta = 0.0"
   ]
  },
  {
   "cell_type": "code",
   "execution_count": null,
   "metadata": {},
   "outputs": [],
   "source": [
    "def timer_up(event):\n",
    "    global d_x, d_y, d_theta\n",
    "    d_x = odom_goal.x - odom_new.x\n",
    "    d_y = odom_goal.y - odom_new.y \n",
    "    d_theta = odom_goal.theta - odom_new.theta"
   ]
  },
  {
   "cell_type": "code",
   "execution_count": null,
   "metadata": {},
   "outputs": [],
   "source": [
    "rospy.Timer(rospy.Duration(0.1), timer_up)"
   ]
  },
  {
   "cell_type": "code",
   "execution_count": null,
   "metadata": {},
   "outputs": [],
   "source": [
    "print(d_x, d_y)"
   ]
  },
  {
   "cell_type": "code",
   "execution_count": null,
   "metadata": {},
   "outputs": [],
   "source": []
  }
 ],
 "metadata": {
  "kernelspec": {
   "display_name": "Python 2",
   "language": "python",
   "name": "python2"
  },
  "language_info": {
   "codemirror_mode": {
    "name": "ipython",
    "version": 2
   },
   "file_extension": ".py",
   "mimetype": "text/x-python",
   "name": "python",
   "nbconvert_exporter": "python",
   "pygments_lexer": "ipython2",
   "version": "2.7.17"
  }
 },
 "nbformat": 4,
 "nbformat_minor": 2
}
