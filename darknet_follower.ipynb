{
 "cells": [
  {
   "cell_type": "code",
   "execution_count": 1,
   "metadata": {},
   "outputs": [],
   "source": [
    "import sys\n",
    "import rospy"
   ]
  },
  {
   "cell_type": "code",
   "execution_count": 2,
   "metadata": {},
   "outputs": [],
   "source": [
    "from darknet_ros_msgs.msg import BoundingBoxes\n",
    "from geometry_msgs.msg import Twist"
   ]
  },
  {
   "cell_type": "code",
   "execution_count": 3,
   "metadata": {},
   "outputs": [],
   "source": [
    "rospy.init_node('object_follower')\n",
    "pub_cmd = rospy.Publisher('cmd_vel', Twist, queue_size=10)"
   ]
  },
  {
   "cell_type": "code",
   "execution_count": 4,
   "metadata": {},
   "outputs": [],
   "source": [
    "def new_bb(bb_msg):\n",
    "    for box in bb_msg.bounding_boxes:\n",
    "        if box.Class == 'clock':\n",
    "            x = (box.xmin + box.xmax)/2\n",
    "            y = (box.ymin + box.ymax)/2\n",
    "            vx = 0.0\n",
    "            vw = 0.0\n",
    "            print \"X=%d, Y=%d\"%(x, y)\n",
    "            if x < 600: # Image is in the left\n",
    "                vx = 0.0\n",
    "                vw = 0.1 #To the left\n",
    "            elif x > 800: # image is in the right\n",
    "                vx = 0.0\n",
    "                vw = -0.1 # To the right\n",
    "            else:\n",
    "                vx = 0.1\n",
    "                vw = 0.0\n",
    "            twist = Twist()\n",
    "            twist.linear.x = vx\n",
    "            twist.angular.z = vw\n",
    "            pub_cmd.publish(twist)\n",
    "            \n",
    "    "
   ]
  },
  {
   "cell_type": "code",
   "execution_count": 5,
   "metadata": {},
   "outputs": [
    {
     "data": {
      "text/plain": [
       "<rospy.topics.Subscriber at 0x7f299b824fd0>"
      ]
     },
     "execution_count": 5,
     "metadata": {},
     "output_type": "execute_result"
    },
    {
     "name": "stdout",
     "output_type": "stream",
     "text": [
      "X=334, Y=390\n",
      "X=340, Y=378\n",
      "X=333, Y=389\n",
      "X=340, Y=378\n",
      "X=341, Y=378\n",
      "X=341, Y=378\n",
      "X=367, Y=391\n",
      "X=436, Y=391\n",
      "X=576, Y=384\n",
      "X=711, Y=379\n",
      "X=711, Y=379\n",
      "X=845, Y=379\n",
      "X=972, Y=382\n",
      "X=1108, Y=379\n",
      "X=1223, Y=378\n"
     ]
    }
   ],
   "source": [
    "rospy.Subscriber('darknet_ros/bounding_boxes', BoundingBoxes, new_bb, queue_size=10)"
   ]
  },
  {
   "cell_type": "code",
   "execution_count": null,
   "metadata": {},
   "outputs": [],
   "source": []
  }
 ],
 "metadata": {
  "kernelspec": {
   "display_name": "Python 2",
   "language": "python",
   "name": "python2"
  },
  "language_info": {
   "codemirror_mode": {
    "name": "ipython",
    "version": 2
   },
   "file_extension": ".py",
   "mimetype": "text/x-python",
   "name": "python",
   "nbconvert_exporter": "python",
   "pygments_lexer": "ipython2",
   "version": "2.7.17"
  }
 },
 "nbformat": 4,
 "nbformat_minor": 2
}
